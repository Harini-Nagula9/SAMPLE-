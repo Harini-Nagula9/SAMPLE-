{
  "nbformat": 4,
  "nbformat_minor": 0,
  "metadata": {
    "colab": {
      "provenance": []
    },
    "kernelspec": {
      "name": "python3",
      "display_name": "Python 3"
    },
    "language_info": {
      "name": "python"
    }
  },
  "cells": [
    {
      "cell_type": "code",
      "execution_count": null,
      "metadata": {
        "colab": {
          "base_uri": "https://localhost:8080/"
        },
        "id": "he79eT-yBKF2",
        "outputId": "4c1ce682-25bb-4a94-c0f7-a56eb72176f7"
      },
      "outputs": [
        {
          "output_type": "stream",
          "name": "stderr",
          "text": [
            "/usr/local/lib/python3.10/dist-packages/sklearn/manifold/_isomap.py:383: UserWarning: The number of connected components of the neighbors graph is 2 > 1. Completing the graph to fit Isomap might be slow. Increase the number of neighbors to avoid this issue.\n",
            "  self._fit_transform(X)\n",
            "/usr/local/lib/python3.10/dist-packages/scipy/sparse/_index.py:108: SparseEfficiencyWarning: Changing the sparsity structure of a csr_matrix is expensive. lil_matrix is more efficient.\n",
            "  self._set_intXint(row, col, x.flat[0])\n"
          ]
        },
        {
          "output_type": "stream",
          "name": "stdout",
          "text": [
            "PCA Components:\n",
            " [[-2.68412563  0.31939725]\n",
            " [-2.71414169 -0.17700123]\n",
            " [-2.88899057 -0.14494943]\n",
            " [-2.74534286 -0.31829898]\n",
            " [-2.72871654  0.32675451]]\n",
            "ICA Components:\n",
            " [[-1.37275281  0.50407976]\n",
            " [-1.27723374 -0.50255829]\n",
            " [-1.36915115 -0.44695282]\n",
            " [-1.26103444 -0.79029728]\n",
            " [-1.39601297  0.51660691]]\n",
            "SVD Components:\n",
            " [[ 5.91274714 -2.30203322]\n",
            " [ 5.57248242 -1.97182599]\n",
            " [ 5.44697714 -2.09520636]\n",
            " [ 5.43645948 -1.87038151]\n",
            " [ 5.87564494 -2.32829018]]\n",
            "Spearman Correlation: -0.166777658283235\n",
            "Pearson Correlation: -0.11756978413300206\n"
          ]
        }
      ],
      "source": [
        "# Import necessary libraries\n",
        "from sklearn.decomposition import PCA, FastICA, TruncatedSVD, KernelPCA, FactorAnalysis\n",
        "from sklearn.manifold import TSNE, LocallyLinearEmbedding, Isomap, MDS\n",
        "from sklearn.discriminant_analysis import LinearDiscriminantAnalysis\n",
        "from sklearn.cross_decomposition import CCA\n",
        "from sklearn.feature_selection import SelectKBest, f_classif\n",
        "from sklearn.covariance import EmpiricalCovariance, ShrunkCovariance, EllipticEnvelope\n",
        "from sklearn.datasets import load_iris\n",
        "import numpy as np\n",
        "\n",
        "# Load a sample dataset (Iris dataset for demonstration)\n",
        "X, y = load_iris(return_X_y=True)\n",
        "\n",
        "# 1. Principal Component Analysis (PCA)\n",
        "pca = PCA(n_components=2)\n",
        "X_pca = pca.fit_transform(X)\n",
        "\n",
        "# 2. Independent Component Analysis (ICA)\n",
        "ica = FastICA(n_components=2, random_state=0)\n",
        "X_ica = ica.fit_transform(X)\n",
        "\n",
        "# 3. Singular Value Decomposition (SVD)\n",
        "svd = TruncatedSVD(n_components=2)\n",
        "X_svd = svd.fit_transform(X)\n",
        "\n",
        "# 4. Factor Analysis\n",
        "fa = FactorAnalysis(n_components=2)\n",
        "X_fa = fa.fit_transform(X)\n",
        "\n",
        "# 5. Kernel PCA\n",
        "kpca = KernelPCA(n_components=2, kernel='rbf')\n",
        "X_kpca = kpca.fit_transform(X)\n",
        "\n",
        "# 6. t-distributed Stochastic Neighbor Embedding (t-SNE)\n",
        "tsne = TSNE(n_components=2, random_state=0)\n",
        "X_tsne = tsne.fit_transform(X)\n",
        "\n",
        "# 7. Locally Linear Embedding (LLE)\n",
        "lle = LocallyLinearEmbedding(n_components=2, random_state=0)\n",
        "X_lle = lle.fit_transform(X)\n",
        "\n",
        "# 8. Isomap with increased number of neighbors\n",
        "isomap = Isomap(n_components=2, n_neighbors=10)  # Increase the number of neighbors\n",
        "X_isomap = isomap.fit_transform(X)\n",
        "\n",
        "# 9. Multidimensional Scaling (MDS)\n",
        "mds = MDS(n_components=2, random_state=0)\n",
        "X_mds = mds.fit_transform(X)\n",
        "\n",
        "# 10. Linear Discriminant Analysis (LDA) for Dimensionality Reduction\n",
        "lda = LinearDiscriminantAnalysis(n_components=2)\n",
        "X_lda = lda.fit_transform(X, y)  # Requires y (target labels)\n",
        "\n",
        "# 11. Canonical Correlation Analysis (CCA)\n",
        "cca = CCA(n_components=1)\n",
        "X_cca = cca.fit_transform(X, y.reshape(-1, 1))  # Reshape y to make it 2D\n",
        "\n",
        "\n",
        "# 12. Spearman and Pearson Correlation Coefficients\n",
        "# Spearman is usually computed using scipy, while Pearson can be done with numpy\n",
        "from scipy.stats import spearmanr, pearsonr\n",
        "corr_pearson, _ = pearsonr(X[:, 0], X[:, 1])  # Example between two features\n",
        "corr_spearman, _ = spearmanr(X[:, 0], X[:, 1])  # Example between two features\n",
        "\n",
        "# 13. Explained Variance (as part of PCA)\n",
        "explained_variance = pca.explained_variance_ratio_\n",
        "\n",
        "# 14. Covariance Estimation\n",
        "cov_estimator = EmpiricalCovariance().fit(X)\n",
        "cov_matrix = cov_estimator.covariance_\n",
        "\n",
        "# 15. Shrunk Covariance\n",
        "shrunk_cov = ShrunkCovariance().fit(X)\n",
        "shrunk_cov_matrix = shrunk_cov.covariance_\n",
        "\n",
        "# 16. Elliptic Envelope (Robust Covariance Estimation)\n",
        "elliptic_env = EllipticEnvelope(contamination=0.1).fit(X)\n",
        "outliers = elliptic_env.predict(X)\n",
        "\n",
        "# Output results of the first few methods for demonstration\n",
        "print(\"PCA Components:\\n\", X_pca[:5])\n",
        "print(\"ICA Components:\\n\", X_ica[:5])\n",
        "print(\"SVD Components:\\n\", X_svd[:5])\n",
        "print(\"Spearman Correlation:\", corr_spearman)\n",
        "print(\"Pearson Correlation:\", corr_pearson)"
      ]
    }
  ]
}